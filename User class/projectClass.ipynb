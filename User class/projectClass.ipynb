{
 "cells": [
  {
   "cell_type": "code",
   "execution_count": null,
   "metadata": {},
   "outputs": [],
   "source": [
    "class project():\n",
    "    def __init__(self,title,owner,target,start,end):\n",
    "        self.title=title\n",
    "        self.owner=owner #by email from database\n",
    "        self.target=target\n",
    "        self.start=start\n",
    "        self.end=end\n",
    "    def create():\n",
    "        pass\n",
    "    \n",
    "    \n",
    "    def view():\n",
    "       pass \n",
    "        \n",
    "        \n",
    "        \n",
    "    def edit():\n",
    "        pass\n",
    "    \n",
    "    \n",
    "    \n",
    "    def delete():\n",
    "        pass\n",
    "    \n",
    "    def search():\n",
    "        pass\n",
    "        \n",
    "    "
   ]
  }
 ],
 "metadata": {
  "language_info": {
   "name": "python"
  },
  "orig_nbformat": 4
 },
 "nbformat": 4,
 "nbformat_minor": 2
}
