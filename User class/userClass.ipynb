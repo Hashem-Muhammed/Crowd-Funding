{
 "cells": [
  {
   "cell_type": "code",
   "execution_count": 5,
   "metadata": {},
   "outputs": [],
   "source": [
    "import mysql.connector\n",
    "class user():\n",
    "    def __init__(self):\n",
    "        pass\n",
    "        \n",
    "    def registeration(self,f_name,l_name,email,password,mobile):\n",
    "        pass\n",
    "        # should be added to a database\n",
    "        self.f_name=f_name\n",
    "        self.l_name=l_name\n",
    "        self.email=email\n",
    "        self.password=password\n",
    "        self.mobile=mobile\n",
    "        \n",
    "            \n",
    "        \n",
    "        \n",
    "    def login(self,email,password):  #it search in the database for the registered user\n",
    "        pass\n",
    "        \n",
    "        \n",
    "        \n",
    "        \n",
    "\n"
   ]
  },
  {
   "cell_type": "code",
   "execution_count": 3,
   "metadata": {},
   "outputs": [
    {
     "ename": "AttributeError",
     "evalue": "module '_mysql_connector' has no attribute 'connect'",
     "output_type": "error",
     "traceback": [
      "\u001b[1;31m---------------------------------------------------------------------------\u001b[0m",
      "\u001b[1;31mAttributeError\u001b[0m                            Traceback (most recent call last)",
      "Cell \u001b[1;32mIn[3], line 1\u001b[0m\n\u001b[1;32m----> 1\u001b[0m x\u001b[39m=\u001b[39m_mysql_connector\u001b[39m.\u001b[39;49mconnect()\n",
      "\u001b[1;31mAttributeError\u001b[0m: module '_mysql_connector' has no attribute 'connect'"
     ]
    }
   ],
   "source": [
    "x=mysql.connector.connect()"
   ]
  },
  {
   "cell_type": "code",
   "execution_count": null,
   "metadata": {},
   "outputs": [],
   "source": []
  }
 ],
 "metadata": {
  "kernelspec": {
   "display_name": "Python 3",
   "language": "python",
   "name": "python3"
  },
  "language_info": {
   "codemirror_mode": {
    "name": "ipython",
    "version": 3
   },
   "file_extension": ".py",
   "mimetype": "text/x-python",
   "name": "python",
   "nbconvert_exporter": "python",
   "pygments_lexer": "ipython3",
   "version": "3.11.3"
  },
  "orig_nbformat": 4
 },
 "nbformat": 4,
 "nbformat_minor": 2
}
