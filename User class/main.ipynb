{
 "cells": [
  {
   "cell_type": "code",
   "execution_count": 10,
   "metadata": {},
   "outputs": [],
   "source": [
    "class main():\n",
    "    def __init__(self):\n",
    "        pass"
   ]
  },
  {
   "cell_type": "code",
   "execution_count": null,
   "metadata": {},
   "outputs": [],
   "source": [
    "import re  \n",
    "def registeration():\n",
    " while True:\n",
    "    name_regex='^[A-Za-z]+(?:\\s[A-Za-z]+)*$'\n",
    "    fname=input(\"please enter your first name : \")\n",
    "    if (re.search(name_regex,fname)):\n",
    "         lname=input(\"please enter your last name : \")\n",
    "         if (re.search(name_regex,fname)):\n",
    "            regex = '^[a-z0-9]+[\\._]?[ a-z0-9]+[@]\\w+[. ]\\w{2,3}$'\n",
    "            email=input(\"please enter your email: \")\n",
    "        \n",
    "            if(re.search(regex,email)):\n",
    "                #print(\"valid mail\")\n",
    "                password=input(\"please enter your password : \")\n",
    "                password_conf=input(\"please confirm your password : \")\n",
    "                if (password_conf==password):\n",
    "                    mobile_regex = '^(01)[0125][0-9]{8}$'\n",
    "                    mobile=input(\"please enter your phonr number:\")\n",
    "                \n",
    "                    if (re.search(mobile_regex,mobile)):\n",
    "                        print(\"registeration done successfully =)\")\n",
    "                        user_info=(f\"Your info are :{fname}:{lname}:{email}:{password}:{mobile} \\n\")\n",
    "                        print(user_info)\n",
    "                    else:\n",
    "                        print(\"please enter valid phone number\")\n",
    "                        continue\n",
    "                        \n",
    "\n",
    "                else:\n",
    "                    print(\"not matching passwords\")\n",
    "                    continue\n",
    "                        \n",
    "            else:\n",
    "                print(\"please enter valid email\")\n",
    "                continue\n",
    "        \n",
    "         else:\n",
    "            print(\"lname entered is not a string\")        \n",
    "    \n",
    "    else:\n",
    "        print(\"fname entered is not a string\")\n",
    "        continue\n",
    "    \n",
    "\n",
    "registeration()"
   ]
  }
 ],
 "metadata": {
  "kernelspec": {
   "display_name": "Python 3",
   "language": "python",
   "name": "python3"
  },
  "language_info": {
   "codemirror_mode": {
    "name": "ipython",
    "version": 3
   },
   "file_extension": ".py",
   "mimetype": "text/x-python",
   "name": "python",
   "nbconvert_exporter": "python",
   "pygments_lexer": "ipython3",
   "version": "3.11.3"
  },
  "orig_nbformat": 4
 },
 "nbformat": 4,
 "nbformat_minor": 2
}
